{
 "cells": [
  {
   "cell_type": "code",
   "execution_count": 3,
   "metadata": {},
   "outputs": [
    {
     "data": {
      "text/html": [
       "<p>To authorize access needed by Earth Engine, open the following\n",
       "        URL in a web browser and follow the instructions:</p>\n",
       "        <p><a href=https://code.earthengine.google.com/client-auth?scopes=https%3A//www.googleapis.com/auth/earthengine%20https%3A//www.googleapis.com/auth/cloud-platform%20https%3A//www.googleapis.com/auth/drive%20https%3A//www.googleapis.com/auth/devstorage.full_control&request_id=V0oYaeKUuSUKXdxfIKyDrFVZ6b9cBGmlopHuP_-C2Vs&tc=CqI1_R1fWIqMQ_BH_QWxIe05lz3ak8LM5V4PxaHzQRk&cc=zJWPrMtCsq2AroumdsUOJXF_cmiu0K5QtSyBrt9867A>https://code.earthengine.google.com/client-auth?scopes=https%3A//www.googleapis.com/auth/earthengine%20https%3A//www.googleapis.com/auth/cloud-platform%20https%3A//www.googleapis.com/auth/drive%20https%3A//www.googleapis.com/auth/devstorage.full_control&request_id=V0oYaeKUuSUKXdxfIKyDrFVZ6b9cBGmlopHuP_-C2Vs&tc=CqI1_R1fWIqMQ_BH_QWxIe05lz3ak8LM5V4PxaHzQRk&cc=zJWPrMtCsq2AroumdsUOJXF_cmiu0K5QtSyBrt9867A</a></p>\n",
       "        <p>The authorization workflow will generate a code, which you should paste in the box below.</p>\n",
       "        "
      ],
      "text/plain": [
       "<IPython.core.display.HTML object>"
      ]
     },
     "metadata": {},
     "output_type": "display_data"
    },
    {
     "name": "stdout",
     "output_type": "stream",
     "text": [
      "\n",
      "Successfully saved authorization token.\n"
     ]
    }
   ],
   "source": [
    "import ee\n",
    "from dotenv import load_dotenv\n",
    "import os\n",
    "\n",
    "load_dotenv()\n",
    "project_name = os.getenv('PROJECT_NAME')\n",
    "# Trigger the authentication flow.\n",
    "ee.Authenticate()\n",
    "ee.Initialize(project=project_name)"
   ]
  },
  {
   "cell_type": "code",
   "execution_count": 1,
   "metadata": {},
   "outputs": [
    {
     "name": "stderr",
     "output_type": "stream",
     "text": [
      "/home/channingtong/miniconda3/envs/gee/lib/python3.11/site-packages/oauth2client/_helpers.py:255: UserWarning: Cannot access /mnt/repo/wuhanthermal/gee_thermal/credentials.json: No such file or directory\n",
      "  warnings.warn(_MISSING_FILE_MESSAGE.format(filename))\n"
     ]
    },
    {
     "name": "stdout",
     "output_type": "stream",
     "text": [
      "Your browser has been opened to visit:\n",
      "\n",
      "    https://accounts.google.com/o/oauth2/auth?client_id=288349975025-d9jj31td0uet4odh1s0pe2mdljnsdnb4.apps.googleusercontent.com&redirect_uri=http%3A%2F%2Flocalhost%3A8080%2F&scope=https%3A%2F%2Fwww.googleapis.com%2Fauth%2Fdrive&access_type=offline&response_type=code&approval_prompt=force\n",
      "\n",
      "Authentication successful.\n",
      "title: wuhanthermal, id: 1au86jhRGtbjp5Om7AVmEB13FL5F47823\n",
      "title: 未命名文件夹, id: 1kVz3VEgT9y97-QrHqc-RNfLL0QhfCjd5\n",
      "title: record.csv, id: 1DMc_lkY_MHKSHHq79XfD4c6cPeBI1HQa\n",
      "title: seperated_urban, id: 1hag0Ws4uiA03ZWhgbzSYvrrEMBGRTB0S\n",
      "title: LST/2022, id: 12z2oznmsU_wUfTWm3TLu7hgVHWFaY6t8\n",
      "title: Dehancer.Pro.v5.3.2.CE.zip, id: 1NYwlHL6H2hShpKVD0Hunx7HkTyYloUd0\n",
      "title: 待办事项列表, id: 1ZJWd-LOkQ2KPFoTtp7oeUf1k4gWZzbybDbwqxO8A1mc\n"
     ]
    }
   ],
   "source": [
    "from pydrive.auth import GoogleAuth\n",
    "from pydrive.drive import GoogleDrive\n",
    "\n",
    "gauth = GoogleAuth()\n",
    "gauth.LocalWebserverAuth()\n",
    "drive = GoogleDrive(gauth)\n",
    "\n",
    "file_list = drive.ListFile({'q': \"'root' in parents\"}).GetList()\n",
    "for file in file_list:\n",
    "    print('title: %s, id: %s' % (file['title'], file['id']))"
   ]
  }
 ],
 "metadata": {
  "kernelspec": {
   "display_name": "gee",
   "language": "python",
   "name": "python3"
  },
  "language_info": {
   "codemirror_mode": {
    "name": "ipython",
    "version": 3
   },
   "file_extension": ".py",
   "mimetype": "text/x-python",
   "name": "python",
   "nbconvert_exporter": "python",
   "pygments_lexer": "ipython3",
   "version": "3.11.13"
  }
 },
 "nbformat": 4,
 "nbformat_minor": 4
}
